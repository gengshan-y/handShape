{
 "cells": [
  {
   "cell_type": "code",
   "execution_count": 15,
   "metadata": {
    "collapsed": false
   },
   "outputs": [
    {
     "name": "stderr",
     "output_type": "stream",
     "text": [
      "/usr/local/lib/python2.7/dist-packages/matplotlib/__init__.py:1350: UserWarning:  This call to matplotlib.use() has no effect\n",
      "because the backend has already been chosen;\n",
      "matplotlib.use() must be called *before* pylab, matplotlib.pyplot,\n",
      "or matplotlib.backends is imported for the first time.\n",
      "\n",
      "  warnings.warn(_use_error_msg)\n"
     ]
    }
   ],
   "source": [
    "import matplotlib \n",
    "matplotlib.use('Agg')  # to solve the backend problem\n",
    "import matplotlib.pyplot as plt\n",
    "%matplotlib inline\n",
    "import numpy as np\n",
    "import caffe\n",
    "caffe.set_mode_gpu()\n",
    "caffe.set_device(0)"
   ]
  },
  {
   "cell_type": "code",
   "execution_count": 16,
   "metadata": {
    "collapsed": false
   },
   "outputs": [],
   "source": [
    "\"\"\" Load net \"\"\"\n",
    "hand_net = caffe.Net('./mod_submit-net.prototxt',\n",
    "                     './1miohands-modelzoo-v2/1miohands-v2.caffemodel',\n",
    "                     caffe.TEST)"
   ]
  },
  {
   "cell_type": "code",
   "execution_count": 134,
   "metadata": {
    "collapsed": false
   },
   "outputs": [],
   "source": [
    "\"\"\" Load in the dict for label and handShape \"\"\"\n",
    "with open('./handShapeDict.txt') as handDictFile:\n",
    "    handDict = dict(it.strip().split('\\t') for it in handDictFile.readlines())  # create dict in a line\n",
    "handDict['0'] = 'None'\n",
    "\n",
    "\"\"\" Load in image pathes \"\"\"\n",
    "# with open('./ph2014-dev-set-handshape-annotations/3359-ph2014-MS-handshape-annotations.txt', 'r') as fList:\n",
    "with open('tmpList.txt', 'r') as fList:\n",
    "    imgList = [it.strip().split() for it in fList.readlines()]  # create list in a line"
   ]
  },
  {
   "cell_type": "code",
   "execution_count": 135,
   "metadata": {
    "collapsed": false
   },
   "outputs": [
    {
     "data": {
      "text/plain": [
       "[['/home/gengshan/6.JPG', 'write']]"
      ]
     },
     "execution_count": 135,
     "metadata": {},
     "output_type": "execute_result"
    }
   ],
   "source": [
    "imgList"
   ]
  },
  {
   "cell_type": "code",
   "execution_count": 136,
   "metadata": {
    "collapsed": false
   },
   "outputs": [],
   "source": [
    "\"\"\" Get all images \"\"\"\n",
    "imgs = []\n",
    "for it in imgList:\n",
    "    # imgs.append(caffe.io.load_image('./ph2014-dev-set-handshape-annotations/' + it[0]))\n",
    "    imgs.append(caffe.io.load_image(it[0]))\n",
    "imgs = np.asarray(imgs)"
   ]
  },
  {
   "cell_type": "code",
   "execution_count": 137,
   "metadata": {
    "collapsed": false
   },
   "outputs": [
    {
     "data": {
      "text/plain": [
       "(1, 145, 105, 3)"
      ]
     },
     "execution_count": 137,
     "metadata": {},
     "output_type": "execute_result"
    }
   ],
   "source": [
    "imgs.shape"
   ]
  },
  {
   "cell_type": "code",
   "execution_count": 138,
   "metadata": {
    "collapsed": false
   },
   "outputs": [],
   "source": [
    "\"\"\" Set img transformer \"\"\"\n",
    "transformer = caffe.io.Transformer({'data': hand_net.blobs['data'].data.shape})\n",
    "transformer.set_mean('data', np.array([np.mean(imgs[:, :, :, 0])*255,  # use 0~255 range\n",
    "                                       np.mean(imgs[:, :, :, 1])*255, \n",
    "                                       np.mean(imgs[:, :, :, 2])*255]))  \n",
    "transformer.set_transpose('data', (2,0,1))  # change dimension order\n",
    "transformer.set_channel_swap('data', (2,1,0))  # change colomns in colar dimenson (1st dim)\n",
    "transformer.set_raw_scale('data', 255.0)  # amplify to 0~255 range"
   ]
  },
  {
   "cell_type": "code",
   "execution_count": 139,
   "metadata": {
    "collapsed": false
   },
   "outputs": [],
   "source": [
    "\"\"\" Form a batch of inputs \"\"\"\n",
    "imgBatch = []\n",
    "for it in range(0, 1):\n",
    "    imgBatch.append(transformer.preprocess('data', imgs[it, :, :, :]))\n",
    "\n",
    "\"\"\" Forward \"\"\"\n",
    "imgBatch = np.asanyarray(imgBatch)  # have to batchlize; otherwise will regard channel as batch dimension\n",
    "# out = hand_net.forward_all(data = imgBatch)  # use forward all to process a batch of data\n",
    "\n",
    "hand_net.blobs['data'].reshape(*imgBatch.shape)\n",
    "hand_net.blobs['data'].data[...] = imgBatch  # to get all features\n",
    "out = hand_net.forward()"
   ]
  },
  {
   "cell_type": "code",
   "execution_count": 140,
   "metadata": {
    "collapsed": false
   },
   "outputs": [],
   "source": [
    "\"\"\" Get labels \"\"\"\n",
    "true = [it[1] for it in imgList]\n",
    "predict = out['loss3/loss3'].argmax(axis = 1)\n",
    "prob = [probs[predict[it]] for it, probs in enumerate(out['loss3/loss3'])]"
   ]
  },
  {
   "cell_type": "code",
   "execution_count": 141,
   "metadata": {
    "collapsed": false
   },
   "outputs": [
    {
     "data": {
      "text/plain": [
       "0.002087621"
      ]
     },
     "execution_count": 141,
     "metadata": {},
     "output_type": "execute_result"
    }
   ],
   "source": [
    "out['loss3/loss3'][0][41]"
   ]
  },
  {
   "cell_type": "code",
   "execution_count": 112,
   "metadata": {
    "collapsed": false
   },
   "outputs": [
    {
     "name": "stdout",
     "output_type": "stream",
     "text": [
      "true: write\n",
      "generated: b_thumb with prob 0.627389\n",
      "\n",
      "\n",
      "correct: 0.0%\n"
     ]
    }
   ],
   "source": [
    "count = 0\n",
    "for it,img in enumerate(imgs):   \n",
    "    print 'true: ' + true[it]\n",
    "    print 'generated: ' + handDict[str(predict[it])] + ' with prob ' + str(prob[it])\n",
    "    \n",
    "    \"\"\" Count correct \"\"\"\n",
    "    if true[it] == handDict[str(predict[it])]:\n",
    "        count += 1\n",
    "        print 'correct' + '\\n'\n",
    "    else:\n",
    "        print '\\n'\n",
    "print 'correct: ' + str(np.float32(count)/len(imgs) * 100) + '%'"
   ]
  },
  {
   "cell_type": "code",
   "execution_count": 219,
   "metadata": {
    "collapsed": false
   },
   "outputs": [
    {
     "data": {
      "text/plain": [
       "(5, 1024, 1, 1)"
      ]
     },
     "execution_count": 219,
     "metadata": {},
     "output_type": "execute_result"
    }
   ],
   "source": [
    "hand_net.blobs['pool5/7x7_s1'].data.shape"
   ]
  },
  {
   "cell_type": "code",
   "execution_count": 220,
   "metadata": {
    "collapsed": false
   },
   "outputs": [
    {
     "data": {
      "text/plain": [
       "(5, 1024, 7, 7)"
      ]
     },
     "execution_count": 220,
     "metadata": {},
     "output_type": "execute_result"
    }
   ],
   "source": [
    "hand_net.blobs['inception_5b/output'].data.shape"
   ]
  },
  {
   "cell_type": "code",
   "execution_count": 205,
   "metadata": {
    "collapsed": false
   },
   "outputs": [
    {
     "data": {
      "text/plain": [
       "OrderedDict([('data', <caffe._caffe.Blob at 0x7f1c852dcb18>),\n",
       "             ('conv1/7x7_s2', <caffe._caffe.Blob at 0x7f1c852dc9b0>),\n",
       "             ('pool1/3x3_s2', <caffe._caffe.Blob at 0x7f1c852dce60>),\n",
       "             ('pool1/norm1', <caffe._caffe.Blob at 0x7f1c852dcd70>),\n",
       "             ('conv2/3x3_reduce', <caffe._caffe.Blob at 0x7f1c852dcb90>),\n",
       "             ('conv2/3x3', <caffe._caffe.Blob at 0x7f1c852dced8>),\n",
       "             ('conv2/norm2', <caffe._caffe.Blob at 0x7f1c852dccf8>),\n",
       "             ('pool2/3x3_s2', <caffe._caffe.Blob at 0x7f1c852dcaa0>),\n",
       "             ('pool2/3x3_s2_pool2/3x3_s2_0_split_0',\n",
       "              <caffe._caffe.Blob at 0x7f1c852dcf50>),\n",
       "             ('pool2/3x3_s2_pool2/3x3_s2_0_split_1',\n",
       "              <caffe._caffe.Blob at 0x7f1c852dcc08>),\n",
       "             ('pool2/3x3_s2_pool2/3x3_s2_0_split_2',\n",
       "              <caffe._caffe.Blob at 0x7f1c852dca28>),\n",
       "             ('pool2/3x3_s2_pool2/3x3_s2_0_split_3',\n",
       "              <caffe._caffe.Blob at 0x7f1c852dcde8>),\n",
       "             ('inception_3a/1x1', <caffe._caffe.Blob at 0x7f1c84ffb488>),\n",
       "             ('inception_3a/3x3_reduce',\n",
       "              <caffe._caffe.Blob at 0x7f1c84ffb0c8>),\n",
       "             ('inception_3a/3x3', <caffe._caffe.Blob at 0x7f1c84ffb320>),\n",
       "             ('inception_3a/5x5_reduce',\n",
       "              <caffe._caffe.Blob at 0x7f1c84ffb938>),\n",
       "             ('inception_3a/5x5', <caffe._caffe.Blob at 0x7f1c84ffb9b0>),\n",
       "             ('inception_3a/pool', <caffe._caffe.Blob at 0x7f1c850560c8>),\n",
       "             ('inception_3a/pool_proj', <caffe._caffe.Blob at 0x7f1c85056c08>),\n",
       "             ('inception_3a/output', <caffe._caffe.Blob at 0x7f1c850561b8>),\n",
       "             ('inception_3a/output_inception_3a/output_0_split_0',\n",
       "              <caffe._caffe.Blob at 0x7f1c85056758>),\n",
       "             ('inception_3a/output_inception_3a/output_0_split_1',\n",
       "              <caffe._caffe.Blob at 0x7f1c85056cf8>),\n",
       "             ('inception_3a/output_inception_3a/output_0_split_2',\n",
       "              <caffe._caffe.Blob at 0x7f1c85056668>),\n",
       "             ('inception_3a/output_inception_3a/output_0_split_3',\n",
       "              <caffe._caffe.Blob at 0x7f1c85056aa0>),\n",
       "             ('inception_3b/1x1', <caffe._caffe.Blob at 0x7f1c85056398>),\n",
       "             ('inception_3b/3x3_reduce',\n",
       "              <caffe._caffe.Blob at 0x7f1c850567d0>),\n",
       "             ('inception_3b/3x3', <caffe._caffe.Blob at 0x7f1c85056de8>),\n",
       "             ('inception_3b/5x5_reduce',\n",
       "              <caffe._caffe.Blob at 0x7f1c85056230>),\n",
       "             ('inception_3b/5x5', <caffe._caffe.Blob at 0x7f1c85056320>),\n",
       "             ('inception_3b/pool', <caffe._caffe.Blob at 0x7f1c85056b18>),\n",
       "             ('inception_3b/pool_proj', <caffe._caffe.Blob at 0x7f1c85056d70>),\n",
       "             ('inception_3b/output', <caffe._caffe.Blob at 0x7f1c85056410>),\n",
       "             ('pool3/3x3_s2', <caffe._caffe.Blob at 0x7f1c85056b90>),\n",
       "             ('pool3/3x3_s2_pool3/3x3_s2_0_split_0',\n",
       "              <caffe._caffe.Blob at 0x7f1c850569b0>),\n",
       "             ('pool3/3x3_s2_pool3/3x3_s2_0_split_1',\n",
       "              <caffe._caffe.Blob at 0x7f1c850565f0>),\n",
       "             ('pool3/3x3_s2_pool3/3x3_s2_0_split_2',\n",
       "              <caffe._caffe.Blob at 0x7f1c85056140>),\n",
       "             ('pool3/3x3_s2_pool3/3x3_s2_0_split_3',\n",
       "              <caffe._caffe.Blob at 0x7f1c85056ed8>),\n",
       "             ('inception_4a/1x1', <caffe._caffe.Blob at 0x7f1c85056f50>),\n",
       "             ('inception_4a/3x3_reduce',\n",
       "              <caffe._caffe.Blob at 0x7f1c85056c80>),\n",
       "             ('inception_4a/3x3', <caffe._caffe.Blob at 0x7f1c85056a28>),\n",
       "             ('inception_4a/5x5_reduce',\n",
       "              <caffe._caffe.Blob at 0x7f1c85056488>),\n",
       "             ('inception_4a/5x5', <caffe._caffe.Blob at 0x7f1c85056938>),\n",
       "             ('inception_4a/pool', <caffe._caffe.Blob at 0x7f1c85056050>),\n",
       "             ('inception_4a/pool_proj', <caffe._caffe.Blob at 0x7f1c850566e0>),\n",
       "             ('inception_4a/output', <caffe._caffe.Blob at 0x7f1c85056848>),\n",
       "             ('inception_4a/output_inception_4a/output_0_split_0',\n",
       "              <caffe._caffe.Blob at 0x7f1c85056578>),\n",
       "             ('inception_4a/output_inception_4a/output_0_split_1',\n",
       "              <caffe._caffe.Blob at 0x7f1c850562a8>),\n",
       "             ('inception_4a/output_inception_4a/output_0_split_2',\n",
       "              <caffe._caffe.Blob at 0x7f1c85056e60>),\n",
       "             ('inception_4a/output_inception_4a/output_0_split_3',\n",
       "              <caffe._caffe.Blob at 0x7f1c85056500>),\n",
       "             ('inception_4a/output_inception_4a/output_0_split_4',\n",
       "              <caffe._caffe.Blob at 0x7f1c8504dd70>),\n",
       "             ('loss1/ave_pool', <caffe._caffe.Blob at 0x7f1c8504de60>),\n",
       "             ('loss1/conv', <caffe._caffe.Blob at 0x7f1c8504df50>),\n",
       "             ('loss1/fc', <caffe._caffe.Blob at 0x7f1c8504ded8>),\n",
       "             ('loss1/SLclassifier', <caffe._caffe.Blob at 0x7f1c8504db90>),\n",
       "             ('loss1/loss1', <caffe._caffe.Blob at 0x7f1c8504d050>),\n",
       "             ('inception_4b/1x1', <caffe._caffe.Blob at 0x7f1c8504dde8>),\n",
       "             ('inception_4b/3x3_reduce',\n",
       "              <caffe._caffe.Blob at 0x7f1c8504d488>),\n",
       "             ('inception_4b/3x3', <caffe._caffe.Blob at 0x7f1c8504daa0>),\n",
       "             ('inception_4b/5x5_reduce',\n",
       "              <caffe._caffe.Blob at 0x7f1c8504d758>),\n",
       "             ('inception_4b/5x5', <caffe._caffe.Blob at 0x7f1c8504d0c8>),\n",
       "             ('inception_4b/pool', <caffe._caffe.Blob at 0x7f1c8504d7d0>),\n",
       "             ('inception_4b/pool_proj', <caffe._caffe.Blob at 0x7f1c8504d398>),\n",
       "             ('inception_4b/output', <caffe._caffe.Blob at 0x7f1c8504d6e0>),\n",
       "             ('inception_4b/output_inception_4b/output_0_split_0',\n",
       "              <caffe._caffe.Blob at 0x7f1c8504d5f0>),\n",
       "             ('inception_4b/output_inception_4b/output_0_split_1',\n",
       "              <caffe._caffe.Blob at 0x7f1c8504d9b0>),\n",
       "             ('inception_4b/output_inception_4b/output_0_split_2',\n",
       "              <caffe._caffe.Blob at 0x7f1c8504dc08>),\n",
       "             ('inception_4b/output_inception_4b/output_0_split_3',\n",
       "              <caffe._caffe.Blob at 0x7f1c8504db18>),\n",
       "             ('inception_4c/1x1', <caffe._caffe.Blob at 0x7f1c8504d140>),\n",
       "             ('inception_4c/3x3_reduce',\n",
       "              <caffe._caffe.Blob at 0x7f1c8504d938>),\n",
       "             ('inception_4c/3x3', <caffe._caffe.Blob at 0x7f1c8504d668>),\n",
       "             ('inception_4c/5x5_reduce',\n",
       "              <caffe._caffe.Blob at 0x7f1c8504d500>),\n",
       "             ('inception_4c/5x5', <caffe._caffe.Blob at 0x7f1c8504d230>),\n",
       "             ('inception_4c/pool', <caffe._caffe.Blob at 0x7f1c8504d410>),\n",
       "             ('inception_4c/pool_proj', <caffe._caffe.Blob at 0x7f1c8504dcf8>),\n",
       "             ('inception_4c/output', <caffe._caffe.Blob at 0x7f1c8504d320>),\n",
       "             ('inception_4c/output_inception_4c/output_0_split_0',\n",
       "              <caffe._caffe.Blob at 0x7f1c8504da28>),\n",
       "             ('inception_4c/output_inception_4c/output_0_split_1',\n",
       "              <caffe._caffe.Blob at 0x7f1c8504d2a8>),\n",
       "             ('inception_4c/output_inception_4c/output_0_split_2',\n",
       "              <caffe._caffe.Blob at 0x7f1c8504dc80>),\n",
       "             ('inception_4c/output_inception_4c/output_0_split_3',\n",
       "              <caffe._caffe.Blob at 0x7f1c8504d1b8>),\n",
       "             ('inception_4d/1x1', <caffe._caffe.Blob at 0x7f1c8504d848>),\n",
       "             ('inception_4d/3x3_reduce',\n",
       "              <caffe._caffe.Blob at 0x7f1c8504d8c0>),\n",
       "             ('inception_4d/3x3', <caffe._caffe.Blob at 0x7f1c85042140>),\n",
       "             ('inception_4d/5x5_reduce',\n",
       "              <caffe._caffe.Blob at 0x7f1c850426e0>),\n",
       "             ('inception_4d/5x5', <caffe._caffe.Blob at 0x7f1c85042d70>),\n",
       "             ('inception_4d/pool', <caffe._caffe.Blob at 0x7f1c85042de8>),\n",
       "             ('inception_4d/pool_proj', <caffe._caffe.Blob at 0x7f1c850425f0>),\n",
       "             ('inception_4d/output', <caffe._caffe.Blob at 0x7f1c850421b8>),\n",
       "             ('inception_4d/output_inception_4d/output_0_split_0',\n",
       "              <caffe._caffe.Blob at 0x7f1c85042758>),\n",
       "             ('inception_4d/output_inception_4d/output_0_split_1',\n",
       "              <caffe._caffe.Blob at 0x7f1c85042a28>),\n",
       "             ('inception_4d/output_inception_4d/output_0_split_2',\n",
       "              <caffe._caffe.Blob at 0x7f1c85042500>),\n",
       "             ('inception_4d/output_inception_4d/output_0_split_3',\n",
       "              <caffe._caffe.Blob at 0x7f1c850428c0>),\n",
       "             ('inception_4d/output_inception_4d/output_0_split_4',\n",
       "              <caffe._caffe.Blob at 0x7f1c85042578>),\n",
       "             ('loss2/ave_pool', <caffe._caffe.Blob at 0x7f1c85042938>),\n",
       "             ('loss2/conv', <caffe._caffe.Blob at 0x7f1c85042b18>),\n",
       "             ('loss2/fc', <caffe._caffe.Blob at 0x7f1c85042cf8>),\n",
       "             ('loss2/SLclassifier', <caffe._caffe.Blob at 0x7f1c85042398>),\n",
       "             ('loss2/loss1', <caffe._caffe.Blob at 0x7f1c850420c8>),\n",
       "             ('inception_4e/1x1', <caffe._caffe.Blob at 0x7f1c85042050>),\n",
       "             ('inception_4e/3x3_reduce',\n",
       "              <caffe._caffe.Blob at 0x7f1c85042aa0>),\n",
       "             ('inception_4e/3x3', <caffe._caffe.Blob at 0x7f1c85042230>),\n",
       "             ('inception_4e/5x5_reduce',\n",
       "              <caffe._caffe.Blob at 0x7f1c850427d0>),\n",
       "             ('inception_4e/5x5', <caffe._caffe.Blob at 0x7f1c85042c80>),\n",
       "             ('inception_4e/pool', <caffe._caffe.Blob at 0x7f1c85042410>),\n",
       "             ('inception_4e/pool_proj', <caffe._caffe.Blob at 0x7f1c85042848>),\n",
       "             ('inception_4e/output', <caffe._caffe.Blob at 0x7f1c85042b90>),\n",
       "             ('pool4/3x3_s2', <caffe._caffe.Blob at 0x7f1c85042ed8>),\n",
       "             ('pool4/3x3_s2_pool4/3x3_s2_0_split_0',\n",
       "              <caffe._caffe.Blob at 0x7f1c85042e60>),\n",
       "             ('pool4/3x3_s2_pool4/3x3_s2_0_split_1',\n",
       "              <caffe._caffe.Blob at 0x7f1c85042668>),\n",
       "             ('pool4/3x3_s2_pool4/3x3_s2_0_split_2',\n",
       "              <caffe._caffe.Blob at 0x7f1c850422a8>),\n",
       "             ('pool4/3x3_s2_pool4/3x3_s2_0_split_3',\n",
       "              <caffe._caffe.Blob at 0x7f1c85042320>),\n",
       "             ('inception_5a/1x1', <caffe._caffe.Blob at 0x7f1c85042488>),\n",
       "             ('inception_5a/3x3_reduce',\n",
       "              <caffe._caffe.Blob at 0x7f1c85042c08>),\n",
       "             ('inception_5a/3x3', <caffe._caffe.Blob at 0x7f1c85042f50>),\n",
       "             ('inception_5a/5x5_reduce',\n",
       "              <caffe._caffe.Blob at 0x7f1c8505e140>),\n",
       "             ('inception_5a/5x5', <caffe._caffe.Blob at 0x7f1c8505e9b0>),\n",
       "             ('inception_5a/pool', <caffe._caffe.Blob at 0x7f1c8505e230>),\n",
       "             ('inception_5a/pool_proj', <caffe._caffe.Blob at 0x7f1c8505e1b8>),\n",
       "             ('inception_5a/output', <caffe._caffe.Blob at 0x7f1c8505eaa0>),\n",
       "             ('inception_5a/output_inception_5a/output_0_split_0',\n",
       "              <caffe._caffe.Blob at 0x7f1c8505ec08>),\n",
       "             ('inception_5a/output_inception_5a/output_0_split_1',\n",
       "              <caffe._caffe.Blob at 0x7f1c8505eb18>),\n",
       "             ('inception_5a/output_inception_5a/output_0_split_2',\n",
       "              <caffe._caffe.Blob at 0x7f1c8505e7d0>),\n",
       "             ('inception_5a/output_inception_5a/output_0_split_3',\n",
       "              <caffe._caffe.Blob at 0x7f1c8505e668>),\n",
       "             ('inception_5b/1x1', <caffe._caffe.Blob at 0x7f1c8505e758>),\n",
       "             ('inception_5b/3x3_reduce',\n",
       "              <caffe._caffe.Blob at 0x7f1c8505e488>),\n",
       "             ('inception_5b/3x3', <caffe._caffe.Blob at 0x7f1c8505e5f0>),\n",
       "             ('inception_5b/5x5_reduce',\n",
       "              <caffe._caffe.Blob at 0x7f1c8505e410>),\n",
       "             ('inception_5b/5x5', <caffe._caffe.Blob at 0x7f1c8505e500>),\n",
       "             ('inception_5b/pool', <caffe._caffe.Blob at 0x7f1c8505e0c8>),\n",
       "             ('inception_5b/pool_proj', <caffe._caffe.Blob at 0x7f1c8505e848>),\n",
       "             ('inception_5b/output', <caffe._caffe.Blob at 0x7f1c8505e050>),\n",
       "             ('pool5/7x7_s1', <caffe._caffe.Blob at 0x7f1c8505eb90>),\n",
       "             ('loss3/SLclassifier', <caffe._caffe.Blob at 0x7f1c8505ec80>),\n",
       "             ('loss3/loss3', <caffe._caffe.Blob at 0x7f1c8505e938>)])"
      ]
     },
     "execution_count": 205,
     "metadata": {},
     "output_type": "execute_result"
    }
   ],
   "source": [
    "hand_net.blobs"
   ]
  },
  {
   "cell_type": "code",
   "execution_count": 218,
   "metadata": {
    "collapsed": false
   },
   "outputs": [
    {
     "data": {
      "text/plain": [
       "(5, 61)"
      ]
     },
     "execution_count": 218,
     "metadata": {},
     "output_type": "execute_result"
    }
   ],
   "source": [
    "out['loss1/loss1'].shape"
   ]
  },
  {
   "cell_type": "code",
   "execution_count": null,
   "metadata": {
    "collapsed": true
   },
   "outputs": [],
   "source": []
  }
 ],
 "metadata": {
  "kernelspec": {
   "display_name": "Python 2",
   "language": "python",
   "name": "python2"
  },
  "language_info": {
   "codemirror_mode": {
    "name": "ipython",
    "version": 2
   },
   "file_extension": ".py",
   "mimetype": "text/x-python",
   "name": "python",
   "nbconvert_exporter": "python",
   "pygments_lexer": "ipython2",
   "version": "2.7.6"
  }
 },
 "nbformat": 4,
 "nbformat_minor": 0
}
